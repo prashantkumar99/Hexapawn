{
  "nbformat": 4,
  "nbformat_minor": 0,
  "metadata": {
    "colab": {
      "name": "Untitled3.ipynb",
      "version": "0.3.2",
      "provenance": []
    },
    "kernelspec": {
      "name": "python3",
      "display_name": "Python 3"
    }
  },
  "cells": [
    {
      "cell_type": "code",
      "metadata": {
        "id": "QNAcv7nbtT9B",
        "colab_type": "code",
        "colab": {
          "base_uri": "https://localhost:8080/",
          "height": 34
        },
        "outputId": "220880c7-3b9e-4b7e-a590-899a3e58de47"
      },
      "source": [
        "!pwd"
      ],
      "execution_count": 4,
      "outputs": [
        {
          "output_type": "stream",
          "text": [
            "/content\n"
          ],
          "name": "stdout"
        }
      ]
    },
    {
      "cell_type": "code",
      "metadata": {
        "id": "ZGcl7cI_tChS",
        "colab_type": "code",
        "colab": {
          "base_uri": "https://localhost:8080/",
          "height": 34
        },
        "outputId": "d8b9931b-f82f-4ae0-e72c-943a4ff1fa98"
      },
      "source": [
        "!pip install colorama"
      ],
      "execution_count": 5,
      "outputs": [
        {
          "output_type": "stream",
          "text": [
            "Requirement already satisfied: colorama in /usr/local/lib/python3.6/dist-packages (0.4.1)\n"
          ],
          "name": "stdout"
        }
      ]
    },
    {
      "cell_type": "code",
      "metadata": {
        "id": "RxJNlwi3sgvH",
        "colab_type": "code",
        "colab": {
          "base_uri": "https://localhost:8080/",
          "height": 1000
        },
        "outputId": "54f93227-6f9d-4dae-cd20-34ee1fd2ec37"
      },
      "source": [
        "\n",
        "from Game import Game\n",
        "from Board import *\n",
        "import Log\n",
        "from sys import argv\n",
        "from AI import AI\n",
        "from Human import Human\n",
        "import os\n",
        "\n",
        "YES = (\"yes\", \"y\", \"yeah\")\n",
        "NO = (\"no\", \"n\", \"nope\")\n",
        "\n",
        "INTRO = \"\"\"Hexapawn is a deterministic two-player game invented by Martin Gardner.\n",
        "It was invented in order to demonstrate,\n",
        "how it could be played by a heuristic AI implemented by a mechanical computer.\n",
        "Check out this link to know more:-\n",
        "https://www.youtube.com/watch?v=sw7UAZNgGg8\n",
        "Rules:-\n",
        "1. Pawns can move forward or diagonally upward.\n",
        "2. Pawn can't move forward if target position is already occupied.\n",
        "3. Pawn can move diagonally only to strike out opponents pawn.\n",
        "4. To win either a pawn reaches other end of board or strikes out every opponent pawn.\n",
        "\"\"\"\n",
        "\n",
        "def printHeading():\n",
        "    os.system('cls')\n",
        "    print(Fore.GREEN + \"HEXAPAWN\\n\")\n",
        "#Log.logging = False\n",
        "#if len(argv) > 1:\n",
        "#    Log.logging = eval(argv[1])\n",
        "\n",
        "\n",
        "\n",
        "printHeading()\n",
        "print(INTRO)\n",
        "\n",
        "name_1 = \"AI\"\n",
        "name_2 = ''\n",
        "while len(name_2) == 0:\n",
        "    name_2 = input(\"Player Name: \")\n",
        "\n",
        "human = Human(name_2)\n",
        "\n",
        "play = True\n",
        "while play:\n",
        "    board = Board()\n",
        "\n",
        "    ai = AI(name_1, PLAYER_1, board, intelligent=True)\n",
        "    ai.save_intelligence = True\n",
        "    game = Game(ai, human, board)\n",
        "    game.play()\n",
        "    print(\"WINNER: \", game.player_names[game.board.winner()])\n",
        "    play = input(\"Play Again(y/n): \") in YES\n"
      ],
      "execution_count": 0,
      "outputs": [
        {
          "output_type": "stream",
          "text": [
            "HEXAPAWN\n",
            "\n",
            "Hexapawn is a deterministic two-player game invented by Martin Gardner.\n",
            "It was invented in order to demonstrate,\n",
            "how it could be played by a heuristic AI implemented by a mechanical computer.\n",
            "Check out this link to know more:-\n",
            "https://www.youtube.com/watch?v=sw7UAZNgGg8\n",
            "Rules:-\n",
            "1. Pawns can move forward or diagonally upward.\n",
            "2. Pawn can't move forward if target position is already occupied.\n",
            "3. Pawn can move diagonally only to strike out opponents pawn.\n",
            "4. To win either a pawn reaches other end of board or strikes out every opponent pawn.\n",
            "\n",
            "Player Name: Joker\n",
            "HEXAPAWN\n",
            "\n",
            "-----------------\n",
            "| * | 0 | 1 | 2 |\n",
            "-----------------\n",
            "| 0 | & | & | & |\n",
            "-----------------\n",
            "| 1 |   |   |   |\n",
            "-----------------\n",
            "| 2 | @ | @ | @ |\n",
            "-----------------\n",
            "\n",
            "Playing: Joker\n",
            "Select Pawn:-\n",
            "Row: 2\n",
            "Column: 0\n",
            "Select Position to move to:-\n",
            "Row: 1\n",
            "Column: 0\n",
            "HEXAPAWN\n",
            "\n",
            "-----------------\n",
            "| * | 0 | 1 | 2 |\n",
            "-----------------\n",
            "| 0 | & | & | & |\n",
            "-----------------\n",
            "| 1 | @ |   |   |\n",
            "-----------------\n",
            "| 2 |   | @ | @ |\n",
            "-----------------\n",
            "\n",
            "Playing: AI\n",
            "Select Pawn:-\n",
            "Row: 0\n",
            "Column: 1\n",
            "Select Position to move to:-\n",
            "Row: 1\n",
            "Column 0\n",
            "HEXAPAWN\n",
            "\n",
            "-----------------\n",
            "| * | 0 | 1 | 2 |\n",
            "-----------------\n",
            "| 0 | & |   | & |\n",
            "-----------------\n",
            "| 1 | & |   |   |\n",
            "-----------------\n",
            "| 2 |   | @ | @ |\n",
            "-----------------\n",
            "\n",
            "Playing: Joker\n",
            "Select Pawn:-\n"
          ],
          "name": "stdout"
        }
      ]
    }
  ]
}